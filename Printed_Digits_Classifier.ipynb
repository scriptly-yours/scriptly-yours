{
 "cells": [
  {
   "cell_type": "code",
   "execution_count": 17,
   "metadata": {
    "colab": {
     "base_uri": "https://localhost:8080/"
    },
    "id": "LiVqDaXQKZfW",
    "outputId": "d841a384-31d0-47e6-91ca-29abb32fe6ed"
   },
   "outputs": [],
   "source": [
    "import os\n",
    "from torchvision import transforms\n",
    "from torch.utils.data import Dataset\n",
    "from PIL import Image\n",
    "from torch.utils.data import DataLoader\n",
    "\n",
    "\n",
    "class PrintedDigitsDataset(Dataset):\n",
    "    def __init__(self, root_dir, transform=None):\n",
    "        self.root_dir = root_dir\n",
    "        self.transform = transform\n",
    "        self.samples = []\n",
    "\n",
    "        for font_folder in os.listdir(root_dir):\n",
    "            font_path = os.path.join(root_dir, font_folder)\n",
    "            if os.path.isdir(font_path):\n",
    "                for label in os.listdir(font_path):\n",
    "                    label_path = os.path.join(font_path, label)\n",
    "                    if os.path.isdir(label_path):\n",
    "                        for image_file in os.listdir(label_path):\n",
    "                            image_path = os.path.join(label_path, image_file)\n",
    "                            self.samples.append((image_path, int(label)))\n",
    "\n",
    "    def __len__(self):\n",
    "        return len(self.samples)\n",
    "\n",
    "    def __getitem__(self, idx):\n",
    "        image_path, label = self.samples[idx]\n",
    "        image = Image.open(image_path).convert(\"RGB\")\n",
    "        if self.transform:\n",
    "            image = self.transform(image)\n",
    "        return image, label\n",
    "\n",
    "transform = transforms.Compose([\n",
    "    transforms.Grayscale(num_output_channels=1),\n",
    "    transforms.Resize((28, 28)),\n",
    "    transforms.ToTensor(),\n",
    "    transforms.Normalize((0.5,), (0.5,))\n",
    "])\n",
    "\n",
    "data_path = \"./printed_digits\"\n",
    "train_dataset = PrintedDigitsDataset(root_dir=data_path, transform=transform)\n",
    "\n",
    "train_loader = DataLoader(train_dataset, batch_size=16, shuffle=True)\n",
    "\n",
    "# print(f\"Total samples: {len(train_dataset)}\")\n"
   ]
  },
  {
   "cell_type": "code",
   "execution_count": 18,
   "metadata": {
    "id": "rTIQiQO5NEx6"
   },
   "outputs": [],
   "source": [
    "import torch\n",
    "import torch.nn as nn\n",
    "import torch.nn.functional as F\n",
    "\n",
    "class DigitClassifier(nn.Module):\n",
    "    def __init__(self, num_classes=10):\n",
    "        super(DigitClassifier, self).__init__()\n",
    "        self.conv1 = nn.Conv2d(1, 32, kernel_size=3, padding=1)\n",
    "        self.conv2 = nn.Conv2d(32, 64, kernel_size=3, padding=1)\n",
    "        self.fc1 = nn.Linear(64 * 7 * 7, 128)\n",
    "        self.fc2 = nn.Linear(128, num_classes)\n",
    "\n",
    "    def forward(self, x):\n",
    "        x = F.relu(self.conv1(x))\n",
    "        x = F.max_pool2d(x, 2)\n",
    "        x = F.relu(self.conv2(x))\n",
    "        x = F.max_pool2d(x, 2)\n",
    "        x = x.view(x.size(0), -1)  # Flatten\n",
    "        x = F.relu(self.fc1(x))\n",
    "        x = self.fc2(x)\n",
    "        return x\n"
   ]
  },
  {
   "cell_type": "code",
   "execution_count": 19,
   "metadata": {
    "colab": {
     "base_uri": "https://localhost:8080/"
    },
    "id": "kBiND-uyNPsn",
    "outputId": "24bbd01a-fd6e-47e8-c216-f6510d778aa0"
   },
   "outputs": [
    {
     "name": "stdout",
     "output_type": "stream",
     "text": [
      "Epoch 1/50, Loss: 9.5761, Accuracy: 2.00%\n",
      "Epoch 2/50, Loss: 9.0268, Accuracy: 18.00%\n",
      "Epoch 3/50, Loss: 8.9217, Accuracy: 18.00%\n",
      "Epoch 4/50, Loss: 8.5319, Accuracy: 26.00%\n",
      "Epoch 5/50, Loss: 8.1566, Accuracy: 38.00%\n",
      "Epoch 6/50, Loss: 7.6202, Accuracy: 36.00%\n",
      "Epoch 7/50, Loss: 6.4065, Accuracy: 54.00%\n",
      "Epoch 8/50, Loss: 5.3001, Accuracy: 56.00%\n",
      "Epoch 9/50, Loss: 4.9933, Accuracy: 60.00%\n",
      "Epoch 10/50, Loss: 3.8630, Accuracy: 82.00%\n",
      "Epoch 11/50, Loss: 2.8152, Accuracy: 86.00%\n",
      "Epoch 12/50, Loss: 2.2652, Accuracy: 88.00%\n",
      "Epoch 13/50, Loss: 2.3026, Accuracy: 90.00%\n",
      "Epoch 14/50, Loss: 1.0714, Accuracy: 98.00%\n",
      "Epoch 15/50, Loss: 1.0321, Accuracy: 94.00%\n",
      "Epoch 16/50, Loss: 0.6618, Accuracy: 94.00%\n",
      "Epoch 17/50, Loss: 0.4143, Accuracy: 96.00%\n",
      "Epoch 18/50, Loss: 0.3703, Accuracy: 100.00%\n",
      "Epoch 19/50, Loss: 0.2565, Accuracy: 100.00%\n",
      "Epoch 20/50, Loss: 0.1602, Accuracy: 100.00%\n",
      "Epoch 21/50, Loss: 0.1376, Accuracy: 100.00%\n",
      "Epoch 22/50, Loss: 0.1393, Accuracy: 100.00%\n",
      "Epoch 23/50, Loss: 0.0880, Accuracy: 100.00%\n",
      "Epoch 24/50, Loss: 0.0923, Accuracy: 100.00%\n",
      "Epoch 25/50, Loss: 0.0843, Accuracy: 100.00%\n",
      "Epoch 26/50, Loss: 0.0547, Accuracy: 100.00%\n",
      "Epoch 27/50, Loss: 0.0524, Accuracy: 100.00%\n",
      "Epoch 28/50, Loss: 0.0433, Accuracy: 100.00%\n",
      "Epoch 29/50, Loss: 0.0413, Accuracy: 100.00%\n",
      "Epoch 30/50, Loss: 0.0475, Accuracy: 100.00%\n",
      "Epoch 31/50, Loss: 0.0383, Accuracy: 100.00%\n",
      "Epoch 32/50, Loss: 0.0593, Accuracy: 100.00%\n",
      "Epoch 33/50, Loss: 0.0329, Accuracy: 100.00%\n",
      "Epoch 34/50, Loss: 0.0591, Accuracy: 100.00%\n",
      "Epoch 35/50, Loss: 0.0438, Accuracy: 100.00%\n",
      "Epoch 36/50, Loss: 0.0475, Accuracy: 100.00%\n",
      "Epoch 37/50, Loss: 0.0277, Accuracy: 100.00%\n",
      "Epoch 38/50, Loss: 0.0278, Accuracy: 100.00%\n",
      "Epoch 39/50, Loss: 0.0196, Accuracy: 100.00%\n",
      "Epoch 40/50, Loss: 0.0184, Accuracy: 100.00%\n",
      "Epoch 41/50, Loss: 0.0141, Accuracy: 100.00%\n",
      "Epoch 42/50, Loss: 0.0161, Accuracy: 100.00%\n",
      "Epoch 43/50, Loss: 0.0173, Accuracy: 100.00%\n",
      "Epoch 44/50, Loss: 0.0189, Accuracy: 100.00%\n",
      "Epoch 45/50, Loss: 0.0138, Accuracy: 100.00%\n",
      "Epoch 46/50, Loss: 0.0136, Accuracy: 100.00%\n",
      "Epoch 47/50, Loss: 0.0148, Accuracy: 100.00%\n",
      "Epoch 48/50, Loss: 0.0097, Accuracy: 100.00%\n",
      "Epoch 49/50, Loss: 0.0113, Accuracy: 100.00%\n",
      "Epoch 50/50, Loss: 0.0115, Accuracy: 100.00%\n"
     ]
    }
   ],
   "source": [
    "import torch.optim as optim\n",
    "\n",
    "model = DigitClassifier(num_classes=10)\n",
    "criterion = nn.CrossEntropyLoss()\n",
    "optimizer = optim.Adam(model.parameters(), lr=0.001)\n",
    "\n",
    "def train_model(model, train_loader, optimizer, criterion, epochs=5):\n",
    "    model.train()\n",
    "    for epoch in range(epochs):\n",
    "        total_loss = 0\n",
    "        correct = 0\n",
    "        total = 0\n",
    "\n",
    "        for images, labels in train_loader:\n",
    "            optimizer.zero_grad()\n",
    "            outputs = model(images)\n",
    "            loss = criterion(outputs, labels)\n",
    "            loss.backward()\n",
    "            optimizer.step()\n",
    "\n",
    "            total_loss += loss.item()\n",
    "            _, predicted = torch.max(outputs, 1)\n",
    "            correct += (predicted == labels).sum().item()\n",
    "            total += labels.size(0)\n",
    "\n",
    "        accuracy = 100 * correct / total\n",
    "        print(f\"Epoch {epoch+1}/{epochs}, Loss: {total_loss:.4f}, Accuracy: {accuracy:.2f}%\")\n",
    "\n",
    "train_model(model, train_loader, optimizer, criterion, epochs=50)\n"
   ]
  },
  {
   "cell_type": "code",
   "execution_count": 20,
   "metadata": {
    "colab": {
     "base_uri": "https://localhost:8080/"
    },
    "id": "KoHGT9kfNhws",
    "outputId": "954fb610-cf2e-4967-af86-3fb24faf99db"
   },
   "outputs": [
    {
     "name": "stdout",
     "output_type": "stream",
     "text": [
      "Model saved!\n"
     ]
    }
   ],
   "source": [
    "torch.save(model.state_dict(), \"digit_classifier.pth\")\n",
    "print(\"Model saved!\")\n"
   ]
  },
  {
   "cell_type": "code",
   "execution_count": 21,
   "metadata": {
    "id": "V0_sSM8wNl3D"
   },
   "outputs": [],
   "source": [
    "def test_model(model, test_loader):\n",
    "    model.eval()\n",
    "    correct = 0\n",
    "    total = 0\n",
    "    with torch.no_grad():\n",
    "        for images, labels in test_loader:\n",
    "            outputs = model(images)\n",
    "            _, predicted = torch.max(outputs, 1)\n",
    "            correct += (predicted == labels).sum().item()\n",
    "            total += labels.size(0)\n",
    "    accuracy = 100 * correct / total\n",
    "    print(f\"Test Accuracy: {accuracy:.2f}%\")\n"
   ]
  },
  {
   "cell_type": "code",
   "execution_count": null,
   "metadata": {},
   "outputs": [],
   "source": [
    "'''\n",
    "hand_write_beauty_before/\n",
    "├── 0/\n",
    "│   ├── 0_1.png\n",
    "│   ├── 0_2.png\n",
    "│   └── ...\n",
    "├── 1/\n",
    "│   ├── 1_1.png\n",
    "│   ├── 1_2.png\n",
    "│   └── ...\n",
    "└── ...\n",
    "'''\n",
    "\n",
    "'''\n",
    "hand_write_beauty_after/\n",
    "├── 0/\n",
    "│   ├── 0_1.png\n",
    "│   ├── 0_2.png\n",
    "│   └── ...\n",
    "├── 1/\n",
    "│   ├── 1_1.png\n",
    "│   ├── 1_2.png\n",
    "│   └── ...\n",
    "└── ...\n",
    "'''"
   ]
  },
  {
   "cell_type": "code",
   "execution_count": null,
   "metadata": {},
   "outputs": [
    {
     "data": {
      "text/plain": [
       "'\\nhand_write_transform = transforms.Compose([\\n    transforms.Grayscale(num_output_channels=1),\\n    transforms.Resize((28, 28)),\\n    transforms.ToTensor(),\\n    transforms.Normalize((0.5,), (0.5,))\\n])\\n\\nhand_write_beauty_test_dataset = datasets.ImageFolder(\\n    root=\"./hand_write_beauty_test\",\\n    transform=hand_write_transform\\n)\\n\\nhand_write_beauty_test_loader = DataLoader(hand_write_beauty_test_dataset, batch_size=16, shuffle=True)\\ntest_model(model, hand_write_beauty_test_loader)\\n'"
      ]
     },
     "execution_count": 27,
     "metadata": {},
     "output_type": "execute_result"
    }
   ],
   "source": [
    "# test using hand write beautiful test set\n",
    "import matplotlib.pyplot as plt\n",
    "from torchvision import datasets, transforms\n",
    "from torch.utils.data import DataLoader\n",
    "\n",
    "'''\n",
    "hand_write_transform = transforms.Compose([\n",
    "    transforms.Grayscale(num_output_channels=1),\n",
    "    transforms.Resize((28, 28)),\n",
    "    transforms.ToTensor(),\n",
    "    transforms.Normalize((0.5,), (0.5,))\n",
    "])\n",
    "\n",
    "hand_write_beauty_before_test_dataset = datasets.ImageFolder(\n",
    "    root=\"./hand_write_beauty_before\",\n",
    "    transform=hand_write_transform\n",
    ")\n",
    "hand_write_beauty_before_test_loader = DataLoader(hand_write_beauty_before_test_dataset, batch_size=16, shuffle=True)\n",
    "test_model(model, hand_write_beauty_before_test_loader)\n",
    "\n",
    "\n",
    "hand_write_beauty_after_test_dataset = datasets.ImageFolder(\n",
    "    root=\"./hand_write_beauty_after\",\n",
    "    transform=hand_write_transform\n",
    ")\n",
    "hand_write_beauty_after_test_loader = DataLoader(hand_write_beauty_after_test_dataset, batch_size=16, shuffle=True)\n",
    "test_model(model, hand_write_beauty_after_test_loader)\n",
    "'''\n"
   ]
  },
  {
   "cell_type": "code",
   "execution_count": null,
   "metadata": {
    "colab": {
     "base_uri": "https://localhost:8080/",
     "height": 99
    },
    "id": "gbKjRo98NrGU",
    "outputId": "52980317-97fe-4160-dd74-3b27976613b1"
   },
   "outputs": [
    {
     "data": {
      "image/png": "[encoded data removed]",
      "text/plain": [
       "<Figure size 1500x500 with 16 Axes>"
      ]
     },
     "metadata": {},
     "output_type": "display_data"
    },
    {
     "name": "stdout",
     "output_type": "stream",
     "text": [
      "Test Accuracy: 11.32%\n"
     ]
    }
   ],
   "source": [
    "# test using mnist dataset\n",
    "import matplotlib.pyplot as plt\n",
    "from torchvision import datasets, transforms\n",
    "from torch.utils.data import DataLoader\n",
    "\n",
    "mnist_transform = transforms.Compose([\n",
    "    transforms.Grayscale(num_output_channels=1),\n",
    "    transforms.Resize((28, 28)),\n",
    "    transforms.ToTensor(),\n",
    "    transforms.Normalize((0.5,), (0.5,))\n",
    "])\n",
    "\n",
    "mnist_test_dataset = datasets.MNIST(\n",
    "    root=\"./data\",\n",
    "    train=False,\n",
    "    download=True,\n",
    "    transform=mnist_transform\n",
    ")\n",
    "\n",
    "mnist_test_loader = DataLoader(mnist_test_dataset, batch_size=16, shuffle=True)\n",
    "\n",
    "\n",
    "def show_mnist_images(data_loader):\n",
    "    data_iter = iter(data_loader)\n",
    "    images, labels = next(data_iter)\n",
    "    images = images.squeeze(1)\n",
    "\n",
    "    fig, axes = plt.subplots(1, len(images), figsize=(15, 5))\n",
    "    for idx, (img, label) in enumerate(zip(images, labels)):\n",
    "        axes[idx].imshow(img.numpy(), cmap=\"gray\")\n",
    "        axes[idx].set_title(f\"Label: {label.item()}\")\n",
    "        axes[idx].axis(\"off\")\n",
    "    plt.show()\n",
    "\n",
    "show_mnist_images(mnist_test_loader)\n",
    "\n",
    "model = DigitClassifier(num_classes=10)\n",
    "model.load_state_dict(torch.load(\"digit_classifier.pth\"))\n",
    "\n",
    "test_model(model, mnist_test_loader)\n"
   ]
  }
 ],
 "metadata": {
  "accelerator": "GPU",
  "colab": {
   "gpuType": "T4",
   "provenance": []
  },
  "kernelspec": {
   "display_name": "Python 3 (ipykernel)",
   "language": "python",
   "name": "python3"
  },
  "language_info": {
   "codemirror_mode": {
    "name": "ipython",
    "version": 3
   },
   "file_extension": ".py",
   "mimetype": "text/x-python",
   "name": "python",
   "nbconvert_exporter": "python",
   "pygments_lexer": "ipython3",
   "version": "3.12.4"
  }
 },
 "nbformat": 4,
 "nbformat_minor": 4
}
