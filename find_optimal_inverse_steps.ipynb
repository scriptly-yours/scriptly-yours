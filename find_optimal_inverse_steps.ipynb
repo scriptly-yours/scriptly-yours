{
 "cells": [
  {
   "cell_type": "code",
   "execution_count": 1,
   "id": "9d640937-0267-4fc2-93a6-8c5d02b1d8f9",
   "metadata": {},
   "outputs": [
    {
     "name": "stderr",
     "output_type": "stream",
     "text": [
      "/data/schu23/mldl/project/Handwriting-Beautification/diffusers/src/diffusers/configuration_utils.py:245: FutureWarning: It is deprecated to pass a pretrained model name or path to `from_config`.If you were trying to load a scheduler, please use <class 'scheduling_rectflow.RectFlowScheduler'>.from_pretrained(...) instead. Otherwise, please make sure to pass a configuration dictionary instead. This functionality will be removed in v1.0.0.\n",
      "  deprecate(\"config-passed-as-path\", \"1.0.0\", deprecation_message, standard_warn=False)\n",
      "/data/schu23/mldl/project/Handwriting-Beautification/diffusers/src/diffusers/configuration_utils.py:245: FutureWarning: It is deprecated to pass a pretrained model name or path to `from_config`.If you were trying to load a scheduler, please use <class 'scheduling_rectflow.RectFlowInverseScheduler'>.from_pretrained(...) instead. Otherwise, please make sure to pass a configuration dictionary instead. This functionality will be removed in v1.0.0.\n",
      "  deprecate(\"config-passed-as-path\", \"1.0.0\", deprecation_message, standard_warn=False)\n"
     ]
    }
   ],
   "source": [
    "import torch\n",
    "import torchvision\n",
    "from diffusers import UNet2DModel\n",
    "from pipeline_ddpm_custom import DDPMPipelineCustom\n",
    "from scheduling_rectflow import RectFlowScheduler, RectFlowInverseScheduler\n",
    "import matplotlib.pyplot as plt\n",
    "import os\n",
    "from PIL import Image\n",
    "import torchvision.transforms.functional as F\n",
    "from tqdm.auto import tqdm\n",
    "\n",
    "# Load the trained model and scheduler\n",
    "model_dir = \"./output/test\"\n",
    "unet = UNet2DModel.from_pretrained(f\"{model_dir}/unet\")\n",
    "scheduler_config_path = os.path.join(model_dir, \"scheduler\", \"scheduler_config.json\")\n",
    "scheduler = RectFlowScheduler.from_config(scheduler_config_path)\n",
    "scheduler_inv = RectFlowInverseScheduler.from_config(scheduler_config_path)\n",
    "if torch.cuda.is_available():\n",
    "    unet.to('cuda')\n",
    "\n",
    "# Create the pipeline\n",
    "pipeline = DDPMPipelineCustom(\n",
    "    unet=unet,\n",
    "    scheduler=scheduler,\n",
    ")\n",
    "pipeline_inv = DDPMPipelineCustom(\n",
    "    unet=unet,\n",
    "    scheduler=scheduler_inv,\n",
    ")\n",
    "pipeline.set_progress_bar_config(disable=True)\n",
    "pipeline_inv.set_progress_bar_config(disable=True)\n"
   ]
  },
  {
   "cell_type": "code",
   "execution_count": 2,
   "id": "1b8f8d94-71a0-4897-81d7-4cac3f87d890",
   "metadata": {},
   "outputs": [
    {
     "data": {
      "application/vnd.jupyter.widget-view+json": {
       "model_id": "75e2d1e0638e47698b2f32e26a43c4a1",
       "version_major": 2,
       "version_minor": 0
      },
      "text/plain": [
       "  0%|          | 0/79 [00:00<?, ?it/s]"
      ]
     },
     "metadata": {},
     "output_type": "display_data"
    },
    {
     "data": {
      "application/vnd.jupyter.widget-view+json": {
       "model_id": "e0068b6bad654f50a5822dc7d29c3274",
       "version_major": 2,
       "version_minor": 0
      },
      "text/plain": [
       "  0%|          | 0/79 [00:00<?, ?it/s]"
      ]
     },
     "metadata": {},
     "output_type": "display_data"
    },
    {
     "data": {
      "application/vnd.jupyter.widget-view+json": {
       "model_id": "f2e985f3a81b418da5e6c183961d6968",
       "version_major": 2,
       "version_minor": 0
      },
      "text/plain": [
       "  0%|          | 0/79 [00:00<?, ?it/s]"
      ]
     },
     "metadata": {},
     "output_type": "display_data"
    },
    {
     "data": {
      "application/vnd.jupyter.widget-view+json": {
       "model_id": "003ff9dfedcd4eaa84680a138d059d43",
       "version_major": 2,
       "version_minor": 0
      },
      "text/plain": [
       "  0%|          | 0/79 [00:00<?, ?it/s]"
      ]
     },
     "metadata": {},
     "output_type": "display_data"
    },
    {
     "data": {
      "application/vnd.jupyter.widget-view+json": {
       "model_id": "3e43c6cd7bf4486e86c1846d62638c63",
       "version_major": 2,
       "version_minor": 0
      },
      "text/plain": [
       "  0%|          | 0/79 [00:00<?, ?it/s]"
      ]
     },
     "metadata": {},
     "output_type": "display_data"
    },
    {
     "data": {
      "application/vnd.jupyter.widget-view+json": {
       "model_id": "d899d15bc41b4bc7a1ae3d22e531eb19",
       "version_major": 2,
       "version_minor": 0
      },
      "text/plain": [
       "  0%|          | 0/79 [00:00<?, ?it/s]"
      ]
     },
     "metadata": {},
     "output_type": "display_data"
    }
   ],
   "source": [
    "import datasets\n",
    "from torch.utils.data import DataLoader\n",
    "\n",
    "mnist = datasets.load_dataset('ylecun/mnist')['test']\n",
    "def transform(examples):\n",
    "    return {\n",
    "        'image': [F.to_tensor(img.resize((32, 32)).convert('RGB')) for img in examples['image']],\n",
    "        'label': [label for label in examples[\"label\"]],\n",
    "    }\n",
    "mnist.set_transform(transform)\n",
    "mnist_loader = DataLoader(mnist, batch_size=128)\n",
    " \n",
    "\n",
    "@torch.no_grad()\n",
    "def test_reconstruction(num_inverse_steps):\n",
    "    mses = []\n",
    "    for batch in tqdm(mnist_loader):\n",
    "        images = batch['image'].to(unet.device)\n",
    "        labels = batch['label'].to(unet.device)\n",
    "    \n",
    "        # Run noise inversion on the given images\n",
    "        semantic_noise = pipeline_inv(\n",
    "            labels,\n",
    "            init_noise=images * 2 - 1,\n",
    "            clamp_output=False,\n",
    "            num_inference_steps=num_inverse_steps,\n",
    "            output_type='pt'\n",
    "        ).images\n",
    "    \n",
    "        # reconstruction\n",
    "        rec = pipeline(labels, init_noise=semantic_noise * 2 - 1, num_inference_steps=50, output_type='pt').images\n",
    "        mses.extend(((images - rec) ** 2).mean(dim=[1, 2, 3]).tolist())\n",
    "    return sum(mses) / len(mses)\n",
    "\n",
    "x = [20, 50, 100, 200, 500, 1000]\n",
    "y = []\n",
    "for i in x:\n",
    "    y.append(test_reconstruction(i))"
   ]
  },
  {
   "cell_type": "code",
   "execution_count": 3,
   "id": "c357297b-972d-46fe-9399-6c11d0a2d839",
   "metadata": {},
   "outputs": [
    {
     "data": {
      "text/plain": [
       "[<matplotlib.lines.Line2D at 0x7e8db890b850>]"
      ]
     },
     "execution_count": 3,
     "metadata": {},
     "output_type": "execute_result"
    },
    {
     "data": {
      "image/png": "[encoded data removed]",
      "text/plain": [
       "<Figure size 640x480 with 1 Axes>"
      ]
     },
     "metadata": {},
     "output_type": "display_data"
    }
   ],
   "source": [
    "import matplotlib.pyplot as plt\n",
    "\n",
    "plt.plot(x, y)"
   ]
  },
  {
   "cell_type": "code",
   "execution_count": null,
   "id": "cd4ce59f-4907-4dd8-b53b-121ae897110d",
   "metadata": {},
   "outputs": [],
   "source": []
  }
 ],
 "metadata": {
  "kernelspec": {
   "display_name": "Python 3 (ipykernel)",
   "language": "python",
   "name": "python3"
  },
  "language_info": {
   "codemirror_mode": {
    "name": "ipython",
    "version": 3
   },
   "file_extension": ".py",
   "mimetype": "text/x-python",
   "name": "python",
   "nbconvert_exporter": "python",
   "pygments_lexer": "ipython3",
   "version": "3.10.15"
  }
 },
 "nbformat": 4,
 "nbformat_minor": 5
}
