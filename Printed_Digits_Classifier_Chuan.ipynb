{
 "cells": [
  {
   "cell_type": "code",
   "execution_count": 1,
   "metadata": {
    "colab": {
     "base_uri": "https://localhost:8080/"
    },
    "id": "LiVqDaXQKZfW",
    "outputId": "d841a384-31d0-47e6-91ca-29abb32fe6ed"
   },
   "outputs": [],
   "source": [
    "import os\n",
    "from torchvision import transforms\n",
    "from torch.utils.data import Dataset\n",
    "from PIL import Image\n",
    "from torch.utils.data import DataLoader\n",
    "\n",
    "\n",
    "class PrintedDigitsDataset(Dataset):\n",
    "    def __init__(self, root_dir, transform=None):\n",
    "        self.root_dir = root_dir\n",
    "        self.transform = transform\n",
    "        self.samples = []\n",
    "\n",
    "        for font_folder in os.listdir(root_dir):\n",
    "            font_path = os.path.join(root_dir, font_folder)\n",
    "            if os.path.isdir(font_path):\n",
    "                for label in os.listdir(font_path):\n",
    "                    label_path = os.path.join(font_path, label)\n",
    "                    if os.path.isdir(label_path):\n",
    "                        for image_file in os.listdir(label_path):\n",
    "                            image_path = os.path.join(label_path, image_file)\n",
    "                            self.samples.append((image_path, int(label)))\n",
    "\n",
    "    def __len__(self):\n",
    "        return len(self.samples)\n",
    "\n",
    "    def __getitem__(self, idx):\n",
    "        image_path, label = self.samples[idx]\n",
    "        image = Image.open(image_path).convert(\"RGB\")\n",
    "        if self.transform:\n",
    "            image = self.transform(image)\n",
    "        return image, label\n",
    "\n",
    "transform = transforms.Compose([\n",
    "    transforms.Grayscale(num_output_channels=1),\n",
    "    transforms.Resize((28, 28)),\n",
    "    transforms.ToTensor(),\n",
    "    transforms.Normalize((0.5,), (0.5,))\n",
    "])\n",
    "\n",
    "data_path = \"./printed_digits\"\n",
    "train_dataset = PrintedDigitsDataset(root_dir=data_path, transform=transform)\n",
    "\n",
    "train_loader = DataLoader(train_dataset, batch_size=16, shuffle=True)\n",
    "\n",
    "# print(f\"Total samples: {len(train_dataset)}\")\n"
   ]
  },
  {
   "cell_type": "code",
   "execution_count": 2,
   "metadata": {
    "id": "rTIQiQO5NEx6"
   },
   "outputs": [],
   "source": [
    "import torch\n",
    "import torch.nn as nn\n",
    "import torch.nn.functional as F\n",
    "\n",
    "class DigitClassifier(nn.Module):\n",
    "    def __init__(self, num_classes=10):\n",
    "        super(DigitClassifier, self).__init__()\n",
    "        self.conv1 = nn.Conv2d(1, 32, kernel_size=3, padding=1)\n",
    "        self.conv2 = nn.Conv2d(32, 64, kernel_size=3, padding=1)\n",
    "        self.fc1 = nn.Linear(64 * 7 * 7, 128)\n",
    "        self.fc2 = nn.Linear(128, num_classes)\n",
    "\n",
    "    def forward(self, x):\n",
    "        x = F.relu(self.conv1(x))\n",
    "        x = F.max_pool2d(x, 2)\n",
    "        x = F.relu(self.conv2(x))\n",
    "        x = F.max_pool2d(x, 2)\n",
    "        x = x.view(x.size(0), -1)  # Flatten\n",
    "        x = F.relu(self.fc1(x))\n",
    "        x = self.fc2(x)\n",
    "        return x\n"
   ]
  },
  {
   "cell_type": "code",
   "execution_count": 3,
   "metadata": {
    "colab": {
     "base_uri": "https://localhost:8080/"
    },
    "id": "kBiND-uyNPsn",
    "outputId": "24bbd01a-fd6e-47e8-c216-f6510d778aa0"
   },
   "outputs": [
    {
     "name": "stdout",
     "output_type": "stream",
     "text": [
      "Epoch 1/50, Loss: 9.9392, Accuracy: 6.00%\n",
      "Epoch 2/50, Loss: 9.1136, Accuracy: 16.00%\n",
      "Epoch 3/50, Loss: 8.9684, Accuracy: 38.00%\n",
      "Epoch 4/50, Loss: 8.6140, Accuracy: 36.00%\n",
      "Epoch 5/50, Loss: 8.6173, Accuracy: 40.00%\n",
      "Epoch 6/50, Loss: 7.8811, Accuracy: 42.00%\n",
      "Epoch 7/50, Loss: 7.3226, Accuracy: 58.00%\n",
      "Epoch 8/50, Loss: 6.5093, Accuracy: 72.00%\n",
      "Epoch 9/50, Loss: 5.2877, Accuracy: 66.00%\n",
      "Epoch 10/50, Loss: 4.4576, Accuracy: 84.00%\n",
      "Epoch 11/50, Loss: 4.5628, Accuracy: 70.00%\n",
      "Epoch 12/50, Loss: 2.7515, Accuracy: 72.00%\n",
      "Epoch 13/50, Loss: 2.8552, Accuracy: 86.00%\n",
      "Epoch 14/50, Loss: 2.0617, Accuracy: 94.00%\n",
      "Epoch 15/50, Loss: 2.6356, Accuracy: 86.00%\n",
      "Epoch 16/50, Loss: 1.5174, Accuracy: 92.00%\n",
      "Epoch 17/50, Loss: 1.4076, Accuracy: 86.00%\n",
      "Epoch 18/50, Loss: 0.9661, Accuracy: 90.00%\n",
      "Epoch 19/50, Loss: 0.8362, Accuracy: 94.00%\n",
      "Epoch 20/50, Loss: 0.5676, Accuracy: 100.00%\n",
      "Epoch 21/50, Loss: 0.5768, Accuracy: 94.00%\n",
      "Epoch 22/50, Loss: 0.5224, Accuracy: 100.00%\n",
      "Epoch 23/50, Loss: 0.3016, Accuracy: 100.00%\n",
      "Epoch 24/50, Loss: 0.2719, Accuracy: 100.00%\n",
      "Epoch 25/50, Loss: 0.2403, Accuracy: 100.00%\n",
      "Epoch 26/50, Loss: 0.1388, Accuracy: 100.00%\n",
      "Epoch 27/50, Loss: 0.1981, Accuracy: 100.00%\n",
      "Epoch 28/50, Loss: 0.1102, Accuracy: 100.00%\n",
      "Epoch 29/50, Loss: 0.0923, Accuracy: 100.00%\n",
      "Epoch 30/50, Loss: 0.0907, Accuracy: 100.00%\n",
      "Epoch 31/50, Loss: 0.0642, Accuracy: 100.00%\n",
      "Epoch 32/50, Loss: 0.0868, Accuracy: 100.00%\n",
      "Epoch 33/50, Loss: 0.0453, Accuracy: 100.00%\n",
      "Epoch 34/50, Loss: 0.0414, Accuracy: 100.00%\n",
      "Epoch 35/50, Loss: 0.0635, Accuracy: 100.00%\n",
      "Epoch 36/50, Loss: 0.0359, Accuracy: 100.00%\n",
      "Epoch 37/50, Loss: 0.0319, Accuracy: 100.00%\n",
      "Epoch 38/50, Loss: 0.0335, Accuracy: 100.00%\n",
      "Epoch 39/50, Loss: 0.0290, Accuracy: 100.00%\n",
      "Epoch 40/50, Loss: 0.0434, Accuracy: 100.00%\n",
      "Epoch 41/50, Loss: 0.0254, Accuracy: 100.00%\n",
      "Epoch 42/50, Loss: 0.0310, Accuracy: 100.00%\n",
      "Epoch 43/50, Loss: 0.0217, Accuracy: 100.00%\n",
      "Epoch 44/50, Loss: 0.0235, Accuracy: 100.00%\n",
      "Epoch 45/50, Loss: 0.0184, Accuracy: 100.00%\n",
      "Epoch 46/50, Loss: 0.0263, Accuracy: 100.00%\n",
      "Epoch 47/50, Loss: 0.0166, Accuracy: 100.00%\n",
      "Epoch 48/50, Loss: 0.0179, Accuracy: 100.00%\n",
      "Epoch 49/50, Loss: 0.0154, Accuracy: 100.00%\n",
      "Epoch 50/50, Loss: 0.0214, Accuracy: 100.00%\n"
     ]
    }
   ],
   "source": [
    "import torch.optim as optim\n",
    "\n",
    "model = DigitClassifier(num_classes=10)\n",
    "criterion = nn.CrossEntropyLoss()\n",
    "optimizer = optim.Adam(model.parameters(), lr=0.001)\n",
    "\n",
    "def train_model(model, train_loader, optimizer, criterion, epochs=5):\n",
    "    model.train()\n",
    "    for epoch in range(epochs):\n",
    "        total_loss = 0\n",
    "        correct = 0\n",
    "        total = 0\n",
    "\n",
    "        for images, labels in train_loader:\n",
    "            optimizer.zero_grad()\n",
    "            outputs = model(images)\n",
    "            loss = criterion(outputs, labels)\n",
    "            loss.backward()\n",
    "            optimizer.step()\n",
    "\n",
    "            total_loss += loss.item()\n",
    "            _, predicted = torch.max(outputs, 1)\n",
    "            correct += (predicted == labels).sum().item()\n",
    "            total += labels.size(0)\n",
    "\n",
    "        accuracy = 100 * correct / total\n",
    "        print(f\"Epoch {epoch+1}/{epochs}, Loss: {total_loss:.4f}, Accuracy: {accuracy:.2f}%\")\n",
    "\n",
    "train_model(model, train_loader, optimizer, criterion, epochs=50)\n"
   ]
  },
  {
   "cell_type": "code",
   "execution_count": 4,
   "metadata": {
    "colab": {
     "base_uri": "https://localhost:8080/"
    },
    "id": "KoHGT9kfNhws",
    "outputId": "954fb610-cf2e-4967-af86-3fb24faf99db"
   },
   "outputs": [
    {
     "name": "stdout",
     "output_type": "stream",
     "text": [
      "Model saved!\n"
     ]
    }
   ],
   "source": [
    "model_path = \"digit_classifier_Chuan.pth\"\n",
    "torch.save(model.state_dict(), model_path)\n",
    "print(\"Model saved!\")\n"
   ]
  },
  {
   "cell_type": "code",
   "execution_count": 5,
   "metadata": {
    "id": "V0_sSM8wNl3D"
   },
   "outputs": [],
   "source": [
    "def test_model(model, test_loader):\n",
    "    model.eval()\n",
    "    correct = 0\n",
    "    total = 0\n",
    "    with torch.no_grad():\n",
    "        for images, labels in test_loader:\n",
    "            outputs = model(images)\n",
    "            _, predicted = torch.max(outputs, 1)\n",
    "            correct += (predicted == labels).sum().item()\n",
    "            total += labels.size(0)\n",
    "    accuracy = 100 * correct / total\n",
    "    print(f\"Test Accuracy: {accuracy:.2f}%\")\n",
    "    print(f\"n_of_correct:\", correct)\n",
    "    print(f\"n_of_total:\", total)\n"
   ]
  },
  {
   "cell_type": "code",
   "execution_count": 6,
   "metadata": {},
   "outputs": [
    {
     "data": {
      "text/plain": [
       "'\\nhand_write_beauty_after/\\n├── 0/\\n│   ├── 0_1.png\\n│   ├── 0_2.png\\n│   └── ...\\n├── 1/\\n│   ├── 1_1.png\\n│   ├── 1_2.png\\n│   └── ...\\n└── ...\\n'"
      ]
     },
     "execution_count": 6,
     "metadata": {},
     "output_type": "execute_result"
    }
   ],
   "source": [
    "'''\n",
    "hand_write_beauty_before/\n",
    "├── 0/\n",
    "│   ├── 0_1.png\n",
    "│   ├── 0_2.png\n",
    "│   └── ...\n",
    "├── 1/\n",
    "│   ├── 1_1.png\n",
    "│   ├── 1_2.png\n",
    "│   └── ...\n",
    "└── ...\n",
    "'''\n",
    "\n",
    "'''\n",
    "hand_write_beauty_after/\n",
    "├── 0/\n",
    "│   ├── 0_1.png\n",
    "│   ├── 0_2.png\n",
    "│   └── ...\n",
    "├── 1/\n",
    "│   ├── 1_1.png\n",
    "│   ├── 1_2.png\n",
    "│   └── ...\n",
    "└── ...\n",
    "'''"
   ]
  },
  {
   "cell_type": "code",
   "execution_count": 7,
   "metadata": {},
   "outputs": [
    {
     "name": "stdout",
     "output_type": "stream",
     "text": [
      "\u001b[34mhandwriting\u001b[m\u001b[m \u001b[34mprinted\u001b[m\u001b[m\n"
     ]
    }
   ],
   "source": [
    "!ls interpolate_samples"
   ]
  },
  {
   "cell_type": "code",
   "execution_count": 8,
   "metadata": {},
   "outputs": [],
   "source": [
    "path_for_hand_write_beauty_before = \"interpolate_samples/handwriting\"\n",
    "path_for_hand_write_beauty_after = \"interpolate_samples/printed\""
   ]
  },
  {
   "cell_type": "code",
   "execution_count": 9,
   "metadata": {},
   "outputs": [],
   "source": [
    "# test using hand write beautiful test set\n",
    "# import matplotlib.pyplot as plt\n",
    "from torchvision import datasets, transforms\n",
    "from torch.utils.data import DataLoader\n",
    "\n",
    "\n",
    "hand_write_transform = transforms.Compose([\n",
    "    transforms.Grayscale(num_output_channels=1),\n",
    "    transforms.Resize((28, 28)),\n",
    "    transforms.ToTensor(),\n",
    "    transforms.Normalize((0.5,), (0.5,))\n",
    "])"
   ]
  },
  {
   "cell_type": "code",
   "execution_count": 10,
   "metadata": {},
   "outputs": [
    {
     "name": "stdout",
     "output_type": "stream",
     "text": [
      "Test Accuracy: 10.00%\n",
      "n_of_correct: 1\n",
      "n_of_total: 10\n"
     ]
    }
   ],
   "source": [
    "hand_write_beauty_before_test_dataset = datasets.ImageFolder(\n",
    "    root=path_for_hand_write_beauty_before,\n",
    "    transform=hand_write_transform\n",
    ")\n",
    "hand_write_beauty_before_test_loader = DataLoader(hand_write_beauty_before_test_dataset, batch_size=16, shuffle=True)\n",
    "test_model(model, hand_write_beauty_before_test_loader)\n"
   ]
  },
  {
   "cell_type": "code",
   "execution_count": 11,
   "metadata": {},
   "outputs": [
    {
     "name": "stdout",
     "output_type": "stream",
     "text": [
      "Test Accuracy: 20.00%\n",
      "n_of_correct: 1\n",
      "n_of_total: 5\n"
     ]
    }
   ],
   "source": [
    "hand_write_beauty_after_test_dataset = datasets.ImageFolder(\n",
    "    root=path_for_hand_write_beauty_after,\n",
    "    transform=hand_write_transform\n",
    ")\n",
    "hand_write_beauty_after_test_loader = DataLoader(hand_write_beauty_after_test_dataset, batch_size=16, shuffle=True)\n",
    "test_model(model, hand_write_beauty_after_test_loader)"
   ]
  },
  {
   "cell_type": "code",
   "execution_count": 13,
   "metadata": {
    "colab": {
     "base_uri": "https://localhost:8080/",
     "height": 99
    },
    "id": "gbKjRo98NrGU",
    "outputId": "52980317-97fe-4160-dd74-3b27976613b1"
   },
   "outputs": [
    {
     "data": {
      "image/png": "[encoded data removed]",
      "text/plain": [
       "<Figure size 1500x500 with 16 Axes>"
      ]
     },
     "metadata": {},
     "output_type": "display_data"
    },
    {
     "name": "stderr",
     "output_type": "stream",
     "text": [
      "/var/folders/my/4hyht8y12x7ft09pkpvnkdsh0000gn/T/ipykernel_65364/3809287559.py:38: FutureWarning: You are using `torch.load` with `weights_only=False` (the current default value), which uses the default pickle module implicitly. It is possible to construct malicious pickle data which will execute arbitrary code during unpickling (See https://github.com/pytorch/pytorch/blob/main/SECURITY.md#untrusted-models for more details). In a future release, the default value for `weights_only` will be flipped to `True`. This limits the functions that could be executed during unpickling. Arbitrary objects will no longer be allowed to be loaded via this mode unless they are explicitly allowlisted by the user via `torch.serialization.add_safe_globals`. We recommend you start setting `weights_only=True` for any use case where you don't have full control of the loaded file. Please open an issue on GitHub for any issues related to this experimental feature.\n",
      "  model.load_state_dict(torch.load(model_path))\n"
     ]
    },
    {
     "name": "stdout",
     "output_type": "stream",
     "text": [
      "Test Accuracy: 10.33%\n",
      "n_of_correct: 1033\n",
      "n_of_total: 10000\n"
     ]
    }
   ],
   "source": [
    "# test using mnist dataset\n",
    "import matplotlib.pyplot as plt\n",
    "from torchvision import datasets, transforms\n",
    "from torch.utils.data import DataLoader\n",
    "\n",
    "mnist_transform = transforms.Compose([\n",
    "    transforms.Grayscale(num_output_channels=1),\n",
    "    transforms.Resize((28, 28)),\n",
    "    transforms.ToTensor(),\n",
    "    transforms.Normalize((0.5,), (0.5,))\n",
    "])\n",
    "\n",
    "mnist_test_dataset = datasets.MNIST(\n",
    "    root=\"./data\",\n",
    "    train=False,\n",
    "    download=True,\n",
    "    transform=mnist_transform\n",
    ")\n",
    "\n",
    "mnist_test_loader = DataLoader(mnist_test_dataset, batch_size=16, shuffle=True)\n",
    "\n",
    "\n",
    "def show_mnist_images(data_loader):\n",
    "    data_iter = iter(data_loader)\n",
    "    images, labels = next(data_iter)\n",
    "    images = images.squeeze(1)\n",
    "\n",
    "    fig, axes = plt.subplots(1, len(images), figsize=(15, 5))\n",
    "    for idx, (img, label) in enumerate(zip(images, labels)):\n",
    "        axes[idx].imshow(img.numpy(), cmap=\"gray\")\n",
    "        axes[idx].set_title(f\"Label: {label.item()}\")\n",
    "        axes[idx].axis(\"off\")\n",
    "    plt.show()\n",
    "\n",
    "show_mnist_images(mnist_test_loader)\n",
    "\n",
    "model = DigitClassifier(num_classes=10)\n",
    "model.load_state_dict(torch.load(model_path))\n",
    "\n",
    "test_model(model, mnist_test_loader)\n"
   ]
  },
  {
   "cell_type": "code",
   "execution_count": null,
   "metadata": {},
   "outputs": [],
   "source": []
  }
 ],
 "metadata": {
  "accelerator": "GPU",
  "colab": {
   "gpuType": "T4",
   "provenance": []
  },
  "kernelspec": {
   "display_name": "Python 3 (ipykernel)",
   "language": "python",
   "name": "python3"
  },
  "language_info": {
   "codemirror_mode": {
    "name": "ipython",
    "version": 3
   },
   "file_extension": ".py",
   "mimetype": "text/x-python",
   "name": "python",
   "nbconvert_exporter": "python",
   "pygments_lexer": "ipython3",
   "version": "3.10.15"
  }
 },
 "nbformat": 4,
 "nbformat_minor": 4
}
